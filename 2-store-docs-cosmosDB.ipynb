{
 "cells": [
  {
   "cell_type": "code",
   "execution_count": 5,
   "metadata": {},
   "outputs": [],
   "source": [
    "from azure.cosmos import CosmosClient, exceptions, PartitionKey\n",
    "from azure.cosmos.exceptions import CosmosResourceNotFoundError, CosmosHttpResponseError\n",
    "\n",
    "import json\n",
    "from dotenv import load_dotenv\n",
    "import os"
   ]
  },
  {
   "cell_type": "markdown",
   "metadata": {},
   "source": [
    "# carrega variaveis de ambiente"
   ]
  },
  {
   "cell_type": "code",
   "execution_count": 6,
   "metadata": {},
   "outputs": [],
   "source": [
    "load_dotenv()\n",
    "URL = os.getenv('nosql-cosmos-uri')\n",
    "KEY = os.getenv('nosql-cosmos-pk')\n",
    "cliente = CosmosClient(URL, credential=KEY)"
   ]
  },
  {
   "cell_type": "code",
   "execution_count": 7,
   "metadata": {},
   "outputs": [],
   "source": [
    "DATABASE_NAME = \"DB-1\"\n",
    "database = cliente.get_database_client(DATABASE_NAME)\n",
    "CONTAINER_NAME = 'container-1'\n",
    "container = database.get_container_client(CONTAINER_NAME)"
   ]
  },
  {
   "cell_type": "code",
   "execution_count": 4,
   "metadata": {},
   "outputs": [
    {
     "data": {
      "text/plain": [
       "<ContainerProxy [dbs/DB-docs-json/colls/container-docs-json-05072024]>"
      ]
     },
     "execution_count": 4,
     "metadata": {},
     "output_type": "execute_result"
    }
   ],
   "source": [
    "container"
   ]
  },
  {
   "cell_type": "code",
   "execution_count": null,
   "metadata": {},
   "outputs": [],
   "source": [
    "from azure.cosmos import CosmosClient\n",
    "import os\n",
    "from dotenv import load_dotenv\n",
    "\n",
    "# Carregar variáveis de ambiente do arquivo .env\n",
    "load_dotenv()\n",
    "\n",
    "# Obter as variáveis de ambiente\n",
    "cosmos_db_account_endpoint = os.getenv('nosql-cosmos-uri')\n",
    "cosmos_db_account_key = os.getenv('nosql-cosmos-pk')\n",
    "\n",
    "# Criar cliente do Cosmos DB\n",
    "client = CosmosClient(cosmos_db_account_endpoint, cosmos_db_account_key)\n",
    "\n",
    "# Listar bancos de dados\n",
    "databases = list(client.list_databases())\n",
    "print(\"Databases:\", databases)\n",
    "\n",
    "# Verificar se o banco de dados específico existe\n",
    "database_name = \"DB-docs-json-05072024\"\n",
    "database_exists = any(db['id'] == database_name for db in databases)\n",
    "if not database_exists:\n",
    "    print(f\"Database {database_name} não encontrado.\")\n",
    "else:\n",
    "    print(f\"Database {database_name} encontrado.\")\n",
    "    \n",
    "    # Listar containers no banco de dados\n",
    "    database = client.get_database_client(database_name)\n",
    "    containers = list(database.list_containers())\n",
    "    print(\"Containers:\", containers)\n",
    "\n",
    "    container_name = 'container-docs-json-05072024'\n",
    "    container_exists = any(container['id'] == container_name for container in containers)\n",
    "    if not container_exists:\n",
    "        print(f\"Container {container_name} não encontrado.\")\n",
    "    else:\n",
    "        print(f\"Container {container_name} encontrado.\")\n"
   ]
  },
  {
   "cell_type": "markdown",
   "metadata": {},
   "source": [
    "# OPERAÇÕES CRUD DATABASES"
   ]
  },
  {
   "cell_type": "markdown",
   "metadata": {},
   "source": [
    "### cria database"
   ]
  },
  {
   "cell_type": "code",
   "execution_count": 9,
   "metadata": {},
   "outputs": [],
   "source": [
    "try:\n",
    "    database = cliente.create_database_if_not_exists(input(\"Digite o nome que deseja dar ao seu DataBase: \"))\n",
    "except exceptions.CosmosResourceExistsError:\n",
    "    database = cliente.get_database_client(input(\"Digite o nome que deseja dar ao seu DataBase: \"))"
   ]
  },
  {
   "cell_type": "markdown",
   "metadata": {},
   "source": [
    "### lista databases"
   ]
  },
  {
   "cell_type": "code",
   "execution_count": 9,
   "metadata": {},
   "outputs": [
    {
     "name": "stdout",
     "output_type": "stream",
     "text": [
      "Database ID: DB-docs-json-05072024\n"
     ]
    }
   ],
   "source": [
    "databases = cliente.list_databases()\n",
    "\n",
    "# imprimindo databases\n",
    "for db in databases:\n",
    "    print(f\"Database ID: {db['id']}\")\n",
    "    DATABASE_NAME = db['id']"
   ]
  },
  {
   "cell_type": "markdown",
   "metadata": {},
   "source": [
    "### lista database (container)"
   ]
  },
  {
   "cell_type": "code",
   "execution_count": null,
   "metadata": {},
   "outputs": [],
   "source": [
    "databases = cliente.list_databases()\n",
    "\n",
    "# Print the databases\n",
    "for db in databases:\n",
    "    print(f\"{db['id']}/\")\n",
    "    DATABASE_NAME = db['id']\n",
    "\n",
    "\n",
    "try:\n",
    "    # Acessa o banco de dados\n",
    "    database = cliente.get_database_client(DATABASE_NAME)\n",
    "    \n",
    "    # Lista os containers no banco de dados\n",
    "    containers = list(database.list_containers())\n",
    "    \n",
    "    # Imprime os nomes dos containers\n",
    "    for container in containers:\n",
    "        print(container['id'])\n",
    "except exceptions.CosmosResourceNotFoundError:\n",
    "    print(f\"O banco de dados {DATABASE_NAME} não foi encontrado.\")\n",
    "except Exception as e:\n",
    "    print(f\"Erro ao listar containers: {str(e)}\")\n"
   ]
  },
  {
   "cell_type": "markdown",
   "metadata": {},
   "source": [
    "### exclui database"
   ]
  },
  {
   "cell_type": "code",
   "execution_count": 30,
   "metadata": {},
   "outputs": [
    {
     "name": "stdout",
     "output_type": "stream",
     "text": [
      "Error: Database 'seila' not found.\n"
     ]
    }
   ],
   "source": [
    "database_id = input(\"Digite o Nome do DataBase que deseja excluir: \")\n",
    "\n",
    "# Delete the database\n",
    "try:\n",
    "    cliente.delete_database(database_id)\n",
    "    print(f\"Database '{database_id}' deleted successfully.\")\n",
    "except CosmosResourceNotFoundError:\n",
    "    print(f\"Error: Database '{database_id}' not found.\")\n",
    "except CosmosHttpResponseError as e:\n",
    "    print(f\"HTTP error occurred: {e.status_code} - {e.message}\")\n",
    "except Exception as e:\n",
    "    print(f\"An unexpected error occurred: {e}\")"
   ]
  },
  {
   "cell_type": "markdown",
   "metadata": {},
   "source": [
    "# OPERAÇÕES CRUD CONTAINERS"
   ]
  },
  {
   "cell_type": "markdown",
   "metadata": {},
   "source": [
    "### Cria container"
   ]
  },
  {
   "cell_type": "code",
   "execution_count": 14,
   "metadata": {},
   "outputs": [],
   "source": [
    "try:\n",
    "    container = database.create_container_if_not_exists(\n",
    "        id=input(\"Digite o nome que deseja dar ao seu container: \"), \n",
    "        partition_key=PartitionKey(path=\"/documento\", kind='Hash')\n",
    "    )\n",
    "except exceptions.CosmosResourceExistsError:\n",
    "    container = database.get_container_client(CONTAINER_NAME)\n",
    "except exceptions.CosmosHttpResponseError:\n",
    "    raise"
   ]
  },
  {
   "cell_type": "markdown",
   "metadata": {},
   "source": [
    "### lista containers"
   ]
  },
  {
   "cell_type": "code",
   "execution_count": null,
   "metadata": {},
   "outputs": [],
   "source": [
    "try:\n",
    "    # Acessa o banco de dados\n",
    "    database = cliente.get_database_client(DATABASE_NAME)\n",
    "    \n",
    "    # Lista os containers no banco de dados\n",
    "    containers = list(database.list_containers())\n",
    "    \n",
    "    # Imprime os nomes dos containers\n",
    "    for container in containers:\n",
    "        print(container['id'])\n",
    "except exceptions.CosmosResourceNotFoundError:\n",
    "    print(f\"O banco de dados {DATABASE_NAME} não foi encontrado.\")\n",
    "except Exception as e:\n",
    "    print(f\"Erro ao listar containers: {str(e)}\")\n"
   ]
  },
  {
   "cell_type": "markdown",
   "metadata": {},
   "source": [
    "### exclui containers"
   ]
  },
  {
   "cell_type": "code",
   "execution_count": 17,
   "metadata": {},
   "outputs": [
    {
     "name": "stdout",
     "output_type": "stream",
     "text": [
      "Container 'seila' excluído com sucesso.\n"
     ]
    }
   ],
   "source": [
    "\n",
    "try:\n",
    "    # Acessa o banco de dados\n",
    "    database = cliente.get_database_client(DATABASE_NAME)\n",
    "    \n",
    "    # Solicita o nome do container a ser excluído\n",
    "    container_id = input(\"Digite o nome do container que deseja excluir: \")\n",
    "\n",
    "    # Verifica se o container existe\n",
    "    try:\n",
    "        container = database.get_container_client(container_id)\n",
    "        # Tenta excluir o container\n",
    "        database.delete_container(container_id)\n",
    "        print(f\"Container '{container_id}' excluído com sucesso.\")\n",
    "    except exceptions.CosmosResourceNotFoundError:\n",
    "        print(f\"Container '{container_id}' não encontrado.\")\n",
    "    except Exception as e:\n",
    "        print(f\"Erro ao excluir container '{container_id}': {str(e)}\")\n",
    "\n",
    "except exceptions.CosmosResourceNotFoundError:\n",
    "    print(f\"O banco de dados {DATABASE_NAME} não foi encontrado.\")\n",
    "except Exception as e:\n",
    "    print(f\"Erro ao acessar o banco de dados: {str(e)}\")"
   ]
  },
  {
   "cell_type": "markdown",
   "metadata": {},
   "source": [
    "# OPERAÇÕES CRUD DOCUMENTO"
   ]
  },
  {
   "cell_type": "markdown",
   "metadata": {},
   "source": [
    "#### AZURE OPEN AI SERVICE    -  deploy-teste-acordao"
   ]
  },
  {
   "cell_type": "code",
   "execution_count": 7,
   "metadata": {},
   "outputs": [],
   "source": [
    "from get_embeddings import get_embeddings"
   ]
  },
  {
   "cell_type": "code",
   "execution_count": 16,
   "metadata": {},
   "outputs": [
    {
     "name": "stdout",
     "output_type": "stream",
     "text": [
      "text-embedding-3-large\n",
      "-0.010189319960772991\n",
      "0.04466509446501732\n",
      "0.003089234000071883\n",
      "-0.03068244643509388\n",
      "0.01929483190178871\n"
     ]
    }
   ],
   "source": [
    "text = 'sei la, apenas uma frase qualquer pra textar a função get_embeddings'\n",
    "embedding, modelUsed = get_embeddings(text)\n",
    "print (modelUsed)\n",
    "for i in range(5):\n",
    "    print(embedding[i])"
   ]
  },
  {
   "cell_type": "markdown",
   "metadata": {},
   "source": [
    "### upload de documentos no comos-db"
   ]
  },
  {
   "cell_type": "code",
   "execution_count": null,
   "metadata": {},
   "outputs": [],
   "source": [
    "import os\n",
    "import json\n",
    "from azure.cosmos import CosmosClient, exceptions\n",
    "from dotenv import load_dotenv\n",
    "\n",
    "# Carregar variáveis de ambiente do arquivo .env\n",
    "load_dotenv()\n",
    "\n",
    "# Obter as variáveis de ambiente\n",
    "URL = os.getenv('nosql-cosmos-uri')\n",
    "KEY = os.getenv('nosql-cosmos-pk')\n",
    "\n",
    "# Inicializar o cliente do Cosmos DB\n",
    "cliente = CosmosClient(URL, credential=KEY)\n",
    "database = cliente.get_database_client(DATABASE_NAME)\n",
    "container = database.get_container_client(CONTAINER_NAME)\n",
    "\n",
    "\n",
    "def process_and_upload_json_files(input_dir, container):\n",
    "    for folder_name in os.listdir(input_dir):\n",
    "        folder_path = os.path.join(input_dir, folder_name)\n",
    "        if os.path.isdir(folder_path):\n",
    "            for file_name in os.listdir(folder_path):\n",
    "                if file_name.endswith('.json'):\n",
    "                    file_path = os.path.join(folder_path, file_name)\n",
    "                    \n",
    "                    with open(file_path, 'r', encoding='utf-8') as json_file:\n",
    "                        data = json.load(json_file)\n",
    "                    \n",
    "                    if 'id' not in data or not data['id']:\n",
    "                        data['id'] = data['documento']  # Ajuste o campo id conforme necessário\n",
    "                    \n",
    "                    try:\n",
    "                        container.read_item(item=data['id'], partition_key=data['id'])\n",
    "                        print(f\"Documento {data['id']} já existe. Pulando...\")\n",
    "                    except exceptions.CosmosResourceNotFoundError:\n",
    "                        if not data.get('conteudoVector'):\n",
    "                            # Aplicar a função de embeddings se o campo 'conteudoVector' não existir\n",
    "                            texto = data.get('texto', '')\n",
    "                            embedding, model = get_embeddings(texto)\n",
    "                            data['conteudoVector'] = embedding\n",
    "                            data['embeddingModel'] = model\n",
    "\n",
    "                        # Salvar o arquivo JSON atualizado\n",
    "                        with open(file_path, 'w', encoding='utf-8') as json_file:\n",
    "                            json.dump(data, json_file, ensure_ascii=False, indent=4)\n",
    "\n",
    "                        # Fazer o upload do JSON atualizado para o Azure Cosmos DB\n",
    "                        try:\n",
    "                            container.create_item(body=data)\n",
    "                            print(f\"Documento {data['id']} enviado com sucesso.\")\n",
    "                        except exceptions.CosmosHttpResponseError as e:\n",
    "                            print(f\"Erro ao criar documento {data['id']}: {str(e)}\")\n",
    "\n",
    "\n",
    "input_directory = 'caminho/dos/seus/documentos'\n",
    "\n",
    "process_and_upload_json_files(input_directory, container)\n",
    "\n",
    "# exemplo de saida\n",
    "# Documento x.json já existe. Pulando...\n",
    "# Documento y.json enviado com sucesso.\n"
   ]
  },
  {
   "cell_type": "markdown",
   "metadata": {},
   "source": [
    "### lista total de documentos (total de paginas de documentos, uma vez que cada .json é apenas uma pagina de um pdf originalmente)"
   ]
  },
  {
   "cell_type": "code",
   "execution_count": 52,
   "metadata": {},
   "outputs": [
    {
     "name": "stdout",
     "output_type": "stream",
     "text": [
      "total de documentos: 656\n"
     ]
    }
   ],
   "source": [
    "def list_documents(container):\n",
    "        query = \"SELECT c.documento FROM c \"\n",
    "        # query = \"SELECT COUNT(DISTINCT c.documento) as distinct_count FROM c\"\n",
    "        items = list(container.query_items(\n",
    "            query=query,\n",
    "            enable_cross_partition_query=True\n",
    "        ))\n",
    "        return items\n",
    "documentos = list_documents(container)\n",
    "print(f\"total de documentos: {len(documentos)}\")\n",
    "# for documento in documentos:\n",
    "#         print(documento)"
   ]
  },
  {
   "cell_type": "code",
   "execution_count": 53,
   "metadata": {},
   "outputs": [
    {
     "name": "stdout",
     "output_type": "stream",
     "text": [
      "Total de documentos (paginas): 656\n"
     ]
    }
   ],
   "source": [
    "def list_documents(container):\n",
    "    query = '''SELECT VALUE COUNT(1)\n",
    "               FROM (SELECT DISTINCT c.documento\n",
    "                     FROM c)'''\n",
    "    items = list(container.query_items(\n",
    "        query=query,\n",
    "        enable_cross_partition_query=True\n",
    "    ))\n",
    "    return items[0]  # The query returns a single count value.\n",
    "\n",
    "distinct_count = list_documents(container)\n",
    "print(f\"Total de documentos (paginas): {distinct_count}\")\n"
   ]
  },
  {
   "cell_type": "markdown",
   "metadata": {},
   "source": [
    "# lista total de documentos INTEIROS diferentes "
   ]
  },
  {
   "cell_type": "code",
   "execution_count": 54,
   "metadata": {},
   "outputs": [
    {
     "name": "stdout",
     "output_type": "stream",
     "text": [
      "Total de documentos(inteiros e distintos):\n",
      "66\n"
     ]
    }
   ],
   "source": [
    "def list_documents(container):\n",
    "    query = '''SELECT VALUE COUNT(1)\n",
    "               FROM (\n",
    "                   SELECT DISTINCT LEFT(c.documento, INDEX_OF(c.documento, '_pagina'))\n",
    "                   FROM c\n",
    "               )'''\n",
    "    \n",
    "    items = list(container.query_items(\n",
    "        query=query,\n",
    "        enable_cross_partition_query=True\n",
    "    ))\n",
    "    return items\n",
    "\n",
    "documentos = list_documents(container)\n",
    "print(f\"Total de documentos(inteiros e distintos):\\n{documentos[0]}\")\n"
   ]
  },
  {
   "cell_type": "markdown",
   "metadata": {},
   "source": [
    "### Exclui documentos"
   ]
  },
  {
   "cell_type": "code",
   "execution_count": 23,
   "metadata": {},
   "outputs": [
    {
     "name": "stdout",
     "output_type": "stream",
     "text": [
      "NÃO ENCONTRADO Documento com ID \"seila\".\n"
     ]
    }
   ],
   "source": [
    "from azure.cosmos import exceptions\n",
    "\n",
    "# ID do documento que deseja excluir\n",
    "document_id = input(\"Digite o ID do documento que deseja EXCLUIR\")\n",
    "\n",
    "# Valor da chave de partição (deve ser igual ao valor do campo 'documento')\n",
    "partition_key_value = document_id\n",
    "\n",
    "try:\n",
    "    # Exclusão do documento\n",
    "    response = container.delete_item(\n",
    "        item=document_id,\n",
    "        partition_key=partition_key_value  # Passar diretamente o valor da chave de partição\n",
    "    )\n",
    "    print(f'Excluído com sucesso Documento com ID {document_id}.')\n",
    "except exceptions.CosmosResourceNotFoundError:\n",
    "    print(f'NÃO ENCONTRADO Documento com ID \"{document_id}\".')\n",
    "except Exception as e:\n",
    "    print(f'Erro ao excluir documento: {str(e)}')\n"
   ]
  },
  {
   "cell_type": "markdown",
   "metadata": {},
   "source": [
    "# lista data sources"
   ]
  },
  {
   "cell_type": "code",
   "execution_count": null,
   "metadata": {},
   "outputs": [],
   "source": [
    "from azure.core.credentials import AzureKeyCredential\n",
    "from azure.search.documents.indexes import SearchIndexerClient\n",
    "from azure.search.documents.indexes.models import SearchIndexerDataContainer, SearchIndexerDataSourceConnection\n",
    "key = ''\n",
    "service_endpoint = ''\n",
    "client = SearchIndexerClient(service_endpoint, AzureKeyCredential(key))\n",
    "def list_data_source_connections():\n",
    "    result = client.get_data_source_connections()\n",
    "    names = [ds.name for ds in result]\n",
    "    print(\"Found {} Data Source Connections in the service: {}\".format(len(result), \", \".join(names)))\n",
    "list_data_source_connections()\n"
   ]
  }
 ],
 "metadata": {
  "kernelspec": {
   "display_name": "Python 3",
   "language": "python",
   "name": "python3"
  },
  "language_info": {
   "codemirror_mode": {
    "name": "ipython",
    "version": 3
   },
   "file_extension": ".py",
   "mimetype": "text/x-python",
   "name": "python",
   "nbconvert_exporter": "python",
   "pygments_lexer": "ipython3",
   "version": "3.12.4"
  }
 },
 "nbformat": 4,
 "nbformat_minor": 2
}
