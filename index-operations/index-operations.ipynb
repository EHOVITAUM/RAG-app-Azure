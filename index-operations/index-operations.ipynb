{
 "cells": [
  {
   "cell_type": "markdown",
   "metadata": {},
   "source": [
    "# importação de módulos e variaveis de ambiente\n",
    "### inicializando client"
   ]
  },
  {
   "cell_type": "code",
   "execution_count": 2,
   "metadata": {},
   "outputs": [],
   "source": [
    "import os\n",
    "from azure.search.documents.indexes import SearchIndexClient\n",
    "from azure.core.credentials import AzureKeyCredential\n",
    "from azure.search.documents.indexes.models import SearchIndex\n",
    "\n",
    "from dotenv import load_dotenv\n",
    "load_dotenv()\n",
    "\n",
    "    # Retrieve Azure Search credentials from environment variables\n",
    "search_service_endpoint = os.getenv(\"AZURE_SEARCH_SERVICE_ENDPOINT\")\n",
    "search_api_key = os.getenv(\"AZURE_SEARCH_API_KEY\")\n",
    "\n",
    "    # Initialize the Search Index client\n",
    "client = SearchIndexClient(endpoint=search_service_endpoint,\n",
    "                credential=AzureKeyCredential(search_api_key))"
   ]
  },
  {
   "cell_type": "code",
   "execution_count": null,
   "metadata": {},
   "outputs": [],
   "source": [
    "lista_indexes = []\n",
    "\n",
    "def list_index_names(**kwargs):\n",
    "    index_names = client.list_index_names(**kwargs)\n",
    "    i = 0\n",
    "    for name in index_names:\n",
    "        i +=1 \n",
    "        print(f\"Index name:\\n{name}\")\n",
    "        lista_indexes.append(name)\n",
    "    print(f'Quantidade de indexes: {i}')\n",
    "    \n",
    "list_index_names()"
   ]
  },
  {
   "cell_type": "code",
   "execution_count": 3,
   "metadata": {},
   "outputs": [],
   "source": [
    "indexname = 'index-1'"
   ]
  },
  {
   "cell_type": "code",
   "execution_count": null,
   "metadata": {},
   "outputs": [],
   "source": [
    "#LATENCIA DE ALGUNS MINUTOS PARA ATUALIZAR APÓS UPLOAD DE ARQUIVOS \n",
    "def get_index_statistics(index_name: str, **kwargs):\n",
    "    stats = client.get_index_statistics(index_name, **kwargs)\n",
    "    print(f\"Statistics for index '{index_name}':\\n{stats}\")\n",
    "# get_index_statistics(input('Digite o nome do index que deseja consultar: '))\n",
    "get_index_statistics(indexname)\n",
    "\n",
    "#exemplo de saida\n",
    "# Statistics for index 'index-1':\n",
    "# {'document_count': 670, 'storage_size': 51705763, 'vector_index_size': 8273200}"
   ]
  },
  {
   "cell_type": "code",
   "execution_count": null,
   "metadata": {},
   "outputs": [],
   "source": [
    "def delete_index(index_name: str, **kwargs):\n",
    "    client.delete_index(index_name, **kwargs)\n",
    "    print(f\"Index  '{index_name}'  deleted.\")\n",
    "\n",
    "delete_index(input(\"digite o nome do index que deseja excluir\"))"
   ]
  },
  {
   "cell_type": "code",
   "execution_count": 41,
   "metadata": {},
   "outputs": [
    {
     "name": "stdout",
     "output_type": "stream",
     "text": [
      "Index 'batata' does not exist.\n"
     ]
    }
   ],
   "source": [
    "from azure.core.exceptions import ResourceNotFoundError\n",
    "\n",
    "def delete_index(index_name):\n",
    "    try:\n",
    "        # Verificar se o indexador existe antes de tentar excluí-lo\n",
    "        index = client.get_index(index_name)\n",
    "        if index:\n",
    "            client.delete_index(index_name)\n",
    "            print(f\"Index '{index_name}' successfully deleted.\")\n",
    "    except ResourceNotFoundError:\n",
    "        print(f\"Index '{index_name}' does not exist.\")\n",
    "    except Exception as e:\n",
    "        print(f\"Failed to delete indexer '{index_name}'. Error: {e}\")\n",
    "\n",
    "# Solicita o nome do indexador ao usuário e passa para a função\n",
    "delete_index(input('Digite o nome do index que deseja excluir: '))\n"
   ]
  },
  {
   "cell_type": "code",
   "execution_count": 18,
   "metadata": {},
   "outputs": [],
   "source": [
    "# Function to create an index\n",
    "def create_index(index: SearchIndex, **kwargs):\n",
    "    created_index = client.create_index(index, **kwargs)\n",
    "    print(f\"Index created: {created_index}\")\n",
    "\n",
    "# Function to create or update an index\n",
    "def create_or_update_index(index: SearchIndex, **kwargs):\n",
    "    updated_index = client.create_or_update_index(index, **kwargs)\n",
    "    print(f\"Index created or updated: {updated_index}\")"
   ]
  },
  {
   "cell_type": "code",
   "execution_count": null,
   "metadata": {},
   "outputs": [],
   "source": []
  },
  {
   "cell_type": "code",
   "execution_count": null,
   "metadata": {},
   "outputs": [],
   "source": []
  },
  {
   "cell_type": "code",
   "execution_count": null,
   "metadata": {},
   "outputs": [],
   "source": []
  }
 ],
 "metadata": {
  "kernelspec": {
   "display_name": "Python 3",
   "language": "python",
   "name": "python3"
  },
  "language_info": {
   "codemirror_mode": {
    "name": "ipython",
    "version": 3
   },
   "file_extension": ".py",
   "mimetype": "text/x-python",
   "name": "python",
   "nbconvert_exporter": "python",
   "pygments_lexer": "ipython3",
   "version": "3.12.4"
  }
 },
 "nbformat": 4,
 "nbformat_minor": 2
}
