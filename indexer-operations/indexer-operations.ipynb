{
 "cells": [
  {
   "cell_type": "code",
   "execution_count": 64,
   "metadata": {},
   "outputs": [],
   "source": [
    "import os\n",
    "from dotenv import load_dotenv\n",
    "load_dotenv()\n",
    "\n",
    "\n",
    "service_endpoint = os.getenv(\"AZURE_SEARCH_SERVICE_ENDPOINT\")\n",
    "key = os.getenv(\"AZURE_SEARCH_API_KEY\")\n",
    "connection_string = os.getenv(\"AZURE_STORAGE_CONNECTION_STRING\")\n",
    "cosmos_db_connection_string = os.getenv(\"AZURE_COSMOS_DB_CONN_STRING\")\n",
    "\n",
    "from azure.core.credentials import AzureKeyCredential\n",
    "from azure.search.documents.indexes.models import (\n",
    "    SearchIndexerDataContainer,\n",
    "    SearchIndexerDataSourceConnection,\n",
    "    SearchIndex,\n",
    "    SearchIndexer,\n",
    "    SimpleField,\n",
    "    SearchFieldDataType,\n",
    ")\n",
    "from azure.search.documents.indexes import SearchIndexClient, SearchIndexerClient\n",
    "\n",
    "indexers_client = SearchIndexerClient(service_endpoint, AzureKeyCredential(key))"
   ]
  },
  {
   "cell_type": "code",
   "execution_count": 66,
   "metadata": {},
   "outputs": [],
   "source": [
    "service_endpoint = os.getenv('AZURE_SEARCH_SERVICE_ENDPOINT')\n",
    "search_api_key = os.getenv('AZURE_SEARCH_API_KEY')\n",
    "cosmos_db_account_endpoint = os.getenv('COSMOS_DB_ACCOUNT_ENDPOINT')\n",
    "cosmos_db_account_key = os.getenv('COSMOS_DB_ACCOUNT_KEY')\n",
    "cosmos_db_database_name = \"nome-do-seu-database\"\n",
    "cosmos_db_container_name = 'nome-do-seu-container'\n",
    "\n"
   ]
  },
  {
   "cell_type": "markdown",
   "metadata": {},
   "source": [
    "### INDEXER depende de um DATASOURCE e um INDEX, então :\n",
    "### cria um index, um data source e um indexer "
   ]
  },
  {
   "cell_type": "code",
   "execution_count": null,
   "metadata": {},
   "outputs": [],
   "source": [
    "from azure.search.documents.indexes.models import (\n",
    "    SearchIndex, SimpleField, SearchFieldDataType, SearchableField, SearchIndexerDataContainer, \n",
    "    SearchIndexerDataSourceConnection, SearchIndexer\n",
    ")\n",
    "from azure.core.credentials import AzureKeyCredential\n",
    "from azure.search.documents.indexes import SearchIndexClient\n",
    "from azure.search.documents.indexes import SearchIndexerClient\n",
    "import os\n",
    "from dotenv import load_dotenv\n",
    "\n",
    "# Carregar variáveis de ambiente do arquivo .env\n",
    "load_dotenv()\n",
    "\n",
    "# Obter as variáveis de ambiente\n",
    "service_endpoint = os.getenv('AZURE_SEARCH_SERVICE_ENDPOINT')\n",
    "search_api_key = os.getenv('AZURE_SEARCH_API_KEY')\n",
    "cosmos_db_database_name = \"DB-1\"\n",
    "cosmos_db_container_name = 'container-1'\n",
    "cosmos_db_account_endpoint = os.getenv('COSMOS_DB_ACCOUNT_ENDPOINT')\n",
    "cosmos_db_account_key = os.getenv('COSMOS_DB_ACCOUNT_KEY')\n",
    "\n",
    "# Definir a string de conexão do Cosmos DB\n",
    "cosmos_db_connection_string = f\"AccountEndpoint={cosmos_db_account_endpoint};AccountKey={cosmos_db_account_key};Database={cosmos_db_database_name}\"\n",
    "\n",
    "def create_indexer():\n",
    "    # Nome do índice\n",
    "    index_name = \"index-viacod-1\"\n",
    "    # index_name = \"index-docs-10072024\"\n",
    "\n",
    "    # Definir os campos do índice de acordo com a estrutura dos documentos JSON\n",
    "    fields = [\n",
    "        SimpleField(name=\"id\", type=SearchFieldDataType.String, key=True),\n",
    "        SearchableField(name=\"documento\", type=SearchFieldDataType.String, filterable=True),\n",
    "        SimpleField(name=\"totalPaginas\", type=SearchFieldDataType.Int32, filterable=True),\n",
    "        SearchableField(name=\"texto\", type=SearchFieldDataType.String),\n",
    "        SimpleField(name=\"pagina\", type=SearchFieldDataType.Int32, filterable=True),\n",
    "        SimpleField(name=\"conteudoVector\", type=SearchFieldDataType.Collection(SearchFieldDataType.Double), searchable=True),\n",
    "        SimpleField(name=\"embeddingModel\", type=SearchFieldDataType.String)\n",
    "    ]\n",
    "\n",
    "    # Criar o índice\n",
    "    index = SearchIndex(name=index_name, fields=fields)\n",
    "    ind_client = SearchIndexClient(service_endpoint, AzureKeyCredential(search_api_key))\n",
    "    ind_client.create_or_update_index(index)\n",
    "    print(f\"Índice '{index_name}' criado com sucesso.\")\n",
    "\n",
    "    name_ds = \"indexer-datasource-1\"\n",
    "    # Criar um datasource para Cosmos DB\n",
    "    container = SearchIndexerDataContainer(name=cosmos_db_container_name)\n",
    "    data_source_connection = SearchIndexerDataSourceConnection(\n",
    "        name=name_ds,\n",
    "        type=\"cosmosdb\",\n",
    "        connection_string=cosmos_db_connection_string,\n",
    "        container=container\n",
    "    )\n",
    "    indexers_client = SearchIndexerClient(service_endpoint, AzureKeyCredential(search_api_key))\n",
    "    try:\n",
    "        data_source = indexers_client.create_data_source_connection(data_source_connection)\n",
    "        print(f\"Datasource {name_ds} criado com sucesso.\")\n",
    "    except Exception as e:\n",
    "        if \"already exists\" in str(e):\n",
    "            data_source = indexers_client.get_data_source_connection(name_ds)\n",
    "            indexers_client.create_or_update_data_source_connection(data_source_connection)\n",
    "            print(f\"Datasource {name_ds} atualizado com sucesso.\")\n",
    "        else:\n",
    "            raise e\n",
    "\n",
    "    # Criar um indexador\n",
    "    indexer_name = \"indexer-viacod-1\" \n",
    "    indexer = SearchIndexer(\n",
    "        name=indexer_name,\n",
    "        data_source_name=name_ds,\n",
    "        target_index_name=index_name\n",
    "    )\n",
    "    result = indexers_client.create_or_update_indexer(indexer)\n",
    "    print(f\"Indexer {indexer_name} criado com sucesso.\")\n",
    "\n",
    "create_indexer()\n"
   ]
  },
  {
   "cell_type": "markdown",
   "metadata": {},
   "source": [
    "### cria apenas indexer, considerando que já há index e data source criados "
   ]
  },
  {
   "cell_type": "code",
   "execution_count": null,
   "metadata": {},
   "outputs": [],
   "source": [
    "\n",
    "def create_indexer():\n",
    "    # Nome do índice\n",
    "    index_name = \"index-via-cod-c-pesquisa-semantica-1\"\n",
    "\n",
    "    name_ds = \"indexer-datasource-10072024\"\n",
    "    # Criar um datasource para Cosmos DB\n",
    "\n",
    "    # Criar um indexador\n",
    "    indexer_name = \"indexer-viacod-c-pesquisa-semantica-22082024-1232\" \n",
    "    indexer = SearchIndexer(\n",
    "        name=indexer_name,\n",
    "        data_source_name=name_ds,\n",
    "        target_index_name=index_name\n",
    "    )\n",
    "    result = indexers_client.create_or_update_indexer(indexer)\n",
    "    print(f\"Indexer {indexer_name} criado com sucesso.\")\n",
    "\n",
    "create_indexer()\n"
   ]
  },
  {
   "cell_type": "code",
   "execution_count": null,
   "metadata": {},
   "outputs": [],
   "source": [
    "def list_indexers():\n",
    "    result = indexers_client.get_indexers()\n",
    "    names = [x.name for x in result]\n",
    "    print(\"Found {} Indexers in the service: \\n {}\".format(len(result), \", \".join(names)))\n",
    "\n",
    "list_indexers()"
   ]
  },
  {
   "cell_type": "code",
   "execution_count": 8,
   "metadata": {},
   "outputs": [],
   "source": [
    "indexer_name = 'my-indexer-name'\n",
    "def get_indexer():\n",
    "    result = indexers_client.get_indexer(indexer_name)\n",
    "    print(\"Retrived Indexer: \")\n",
    "    return result\n"
   ]
  },
  {
   "cell_type": "code",
   "execution_count": null,
   "metadata": {},
   "outputs": [],
   "source": [
    "get_indexer()"
   ]
  },
  {
   "cell_type": "code",
   "execution_count": null,
   "metadata": {},
   "outputs": [],
   "source": [
    "def get_indexer_status():\n",
    "    # [START get_indexer_status]\n",
    "    result = indexers_client.get_indexer_status(\"indexer-viacod-c-pesquisa-semantica-22082024-1232\")\n",
    "    print(\"Retrived Indexer status :\")\n",
    "    return result\n",
    "    # [END get_indexer_status]\n",
    "get_indexer_status()\n"
   ]
  },
  {
   "cell_type": "code",
   "execution_count": null,
   "metadata": {},
   "outputs": [],
   "source": [
    "indexer_name_to_run = 'nome do indexer que deseja rodar'\n",
    "\n",
    "def run_indexer():\n",
    "    result = indexers_client.run_indexer(indexer_name_to_run)\n",
    "    print(f\"Ran the Indexer {indexer_name_to_run}\")\n",
    "    return result\n",
    "run_indexer()"
   ]
  },
  {
   "cell_type": "code",
   "execution_count": null,
   "metadata": {},
   "outputs": [],
   "source": [
    "indexer_name_to_reset = 'nome do indexer que deseja resetar'\n",
    "def reset_indexer():\n",
    "    result = indexers_client.reset_indexer(indexer_name_to_reset)\n",
    "    print(f\"Indexer {indexer_name_to_reset} has been reset\")\n",
    "    return result"
   ]
  },
  {
   "cell_type": "code",
   "execution_count": null,
   "metadata": {},
   "outputs": [],
   "source": [
    "from azure.core.exceptions import ResourceNotFoundError\n",
    "\n",
    "def delete_indexer(indexer_name):\n",
    "    try:\n",
    "        # Verificar se o indexador existe antes de tentar excluí-lo\n",
    "        indexer = indexers_client.get_indexer(indexer_name)\n",
    "        if indexer:\n",
    "            indexers_client.delete_indexer(indexer_name)\n",
    "            print(f\"Indexer '{indexer_name}' successfully deleted.\")\n",
    "    except ResourceNotFoundError:\n",
    "        print(f\"Indexer '{indexer_name}' does not exist.\")\n",
    "    except Exception as e:\n",
    "        print(f\"Failed to delete indexer '{indexer_name}'. Error: {e}\")\n",
    "\n",
    "# Solicita o nome do indexador ao usuário e passa para a função\n",
    "delete_indexer(input('Digite o nome do indexer que deseja excluir: '))\n"
   ]
  }
 ],
 "metadata": {
  "kernelspec": {
   "display_name": "Python 3",
   "language": "python",
   "name": "python3"
  },
  "language_info": {
   "codemirror_mode": {
    "name": "ipython",
    "version": 3
   },
   "file_extension": ".py",
   "mimetype": "text/x-python",
   "name": "python",
   "nbconvert_exporter": "python",
   "pygments_lexer": "ipython3",
   "version": "3.12.4"
  }
 },
 "nbformat": 4,
 "nbformat_minor": 2
}
